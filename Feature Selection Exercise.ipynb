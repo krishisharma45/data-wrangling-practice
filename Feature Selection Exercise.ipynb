{
 "cells": [
  {
   "cell_type": "markdown",
   "metadata": {},
   "source": [
    "## Feature Selection Exercise\n",
    "Peyton needs your help optimizing her campaign.  She wants to get more conversions and doesn't know which data features will help.  She has some campaign data she wants you to analyze.  In the campaign data file, you will find the following fields:\n",
    "\n",
    "Hour of day\n",
    "Segments\n",
    "Device\n",
    "Result (1=Conversion, 0=No Conversion)\n",
    "\n",
    "Using Python and scikit-learn, identify the most predictive feature(s) for the result.  Please submit a zipped python file and a short explanation of your findings. "
   ]
  },
  {
   "cell_type": "markdown",
   "metadata": {},
   "source": [
    "### Data Cleaning\n",
    "This data does not have any null values and is relatively clean. There are three features (hour, segments, device) and a target column ('result'). There's an almost equal split between 'Conversion' and 'No Conversion' results, making this data set well balanced. \n",
    "\n",
    "There is one column containing string values (device) that needs to be converted to integers before we implement feature selection techniques."
   ]
  },
  {
   "cell_type": "code",
   "execution_count": 256,
   "metadata": {},
   "outputs": [],
   "source": [
    "import numpy as np\n",
    "import pandas as pd\n",
    "import matplotlib.pyplot as plt\n",
    "import sklearn\n",
    "from sklearn import preprocessing\n",
    "import seaborn as sns\n",
    "from sklearn.model_selection import train_test_split\n",
    "from sklearn.ensemble import RandomForestClassifier\n",
    "from sklearn.ensemble import RandomForestRegressor\n",
    "from sklearn.ensemble import ExtraTreesClassifier\n",
    "from sklearn.linear_model import LogisticRegression\n",
    "from sklearn.linear_model import SGDClassifier\n",
    "from sklearn.naive_bayes import GaussianNB\n",
    "from sklearn.neighbors import KNeighborsClassifier\n",
    "from sklearn.ensemble import BaggingClassifier\n",
    "from sklearn.svm import LinearSVC\n",
    "from numpy import loadtxt\n",
    "from xgboost import XGBClassifier\n",
    "from matplotlib import pyplot\n",
    "from xgboost import plot_importance\n",
    "from sklearn.metrics import accuracy_score\n",
    "from sklearn.feature_selection import SelectFromModel\n",
    "from numpy import sort\n",
    "from sklearn.feature_selection import SelectKBest\n",
    "from sklearn.feature_selection import f_classif\n",
    "from sklearn.feature_selection import f_classif, chi2, mutual_info_classif\n",
    "from sklearn.preprocessing import MinMaxScaler\n",
    "from sklearn import tree\n",
    "from sklearn.tree import DecisionTreeClassifier\n",
    "from sklearn.pipeline import Pipeline\n",
    "from sklearn.model_selection import GridSearchCV\n",
    "from sklearn.metrics import classification_report\n",
    "from sklearn.metrics import mean_squared_error\n",
    "from sklearn.metrics import r2_score"
   ]
  },
  {
   "cell_type": "code",
   "execution_count": 257,
   "metadata": {},
   "outputs": [],
   "source": [
    "campaign_data = pd.read_csv('campaign_data.csv')"
   ]
  },
  {
   "cell_type": "code",
   "execution_count": 258,
   "metadata": {},
   "outputs": [
    {
     "data": {
      "text/html": [
       "<div>\n",
       "<style scoped>\n",
       "    .dataframe tbody tr th:only-of-type {\n",
       "        vertical-align: middle;\n",
       "    }\n",
       "\n",
       "    .dataframe tbody tr th {\n",
       "        vertical-align: top;\n",
       "    }\n",
       "\n",
       "    .dataframe thead th {\n",
       "        text-align: right;\n",
       "    }\n",
       "</style>\n",
       "<table border=\"1\" class=\"dataframe\">\n",
       "  <thead>\n",
       "    <tr style=\"text-align: right;\">\n",
       "      <th></th>\n",
       "      <th>hour</th>\n",
       "      <th>segments</th>\n",
       "      <th>device</th>\n",
       "      <th>result</th>\n",
       "    </tr>\n",
       "  </thead>\n",
       "  <tbody>\n",
       "    <tr>\n",
       "      <th>0</th>\n",
       "      <td>9</td>\n",
       "      <td>51</td>\n",
       "      <td>Smartphone</td>\n",
       "      <td>1</td>\n",
       "    </tr>\n",
       "    <tr>\n",
       "      <th>1</th>\n",
       "      <td>9</td>\n",
       "      <td>51</td>\n",
       "      <td>Tablet</td>\n",
       "      <td>1</td>\n",
       "    </tr>\n",
       "    <tr>\n",
       "      <th>2</th>\n",
       "      <td>9</td>\n",
       "      <td>91</td>\n",
       "      <td>Smartphone</td>\n",
       "      <td>1</td>\n",
       "    </tr>\n",
       "    <tr>\n",
       "      <th>3</th>\n",
       "      <td>9</td>\n",
       "      <td>331</td>\n",
       "      <td>Desktop</td>\n",
       "      <td>1</td>\n",
       "    </tr>\n",
       "    <tr>\n",
       "      <th>4</th>\n",
       "      <td>9</td>\n",
       "      <td>41</td>\n",
       "      <td>Smartphone</td>\n",
       "      <td>1</td>\n",
       "    </tr>\n",
       "  </tbody>\n",
       "</table>\n",
       "</div>"
      ],
      "text/plain": [
       "   hour  segments      device  result\n",
       "0     9        51  Smartphone       1\n",
       "1     9        51      Tablet       1\n",
       "2     9        91  Smartphone       1\n",
       "3     9       331     Desktop       1\n",
       "4     9        41  Smartphone       1"
      ]
     },
     "execution_count": 258,
     "metadata": {},
     "output_type": "execute_result"
    }
   ],
   "source": [
    "campaign_data.head()"
   ]
  },
  {
   "cell_type": "code",
   "execution_count": 259,
   "metadata": {},
   "outputs": [
    {
     "data": {
      "text/plain": [
       "(3312, 4)"
      ]
     },
     "execution_count": 259,
     "metadata": {},
     "output_type": "execute_result"
    }
   ],
   "source": [
    "campaign_data.shape"
   ]
  },
  {
   "cell_type": "code",
   "execution_count": 260,
   "metadata": {},
   "outputs": [
    {
     "data": {
      "text/plain": [
       "False"
      ]
     },
     "execution_count": 260,
     "metadata": {},
     "output_type": "execute_result"
    }
   ],
   "source": [
    "campaign_data.isnull().values.any()"
   ]
  },
  {
   "cell_type": "code",
   "execution_count": 261,
   "metadata": {},
   "outputs": [
    {
     "data": {
      "text/plain": [
       "Smartphone    1403\n",
       "Tablet        1098\n",
       "Desktop        811\n",
       "Name: device, dtype: int64"
      ]
     },
     "execution_count": 261,
     "metadata": {},
     "output_type": "execute_result"
    }
   ],
   "source": [
    "campaign_data['device'].value_counts()"
   ]
  },
  {
   "cell_type": "code",
   "execution_count": 262,
   "metadata": {},
   "outputs": [
    {
     "data": {
      "text/plain": [
       "1    1658\n",
       "0    1654\n",
       "Name: result, dtype: int64"
      ]
     },
     "execution_count": 262,
     "metadata": {},
     "output_type": "execute_result"
    }
   ],
   "source": [
    "campaign_data['result'].value_counts()"
   ]
  },
  {
   "cell_type": "code",
   "execution_count": 263,
   "metadata": {},
   "outputs": [
    {
     "name": "stdout",
     "output_type": "stream",
     "text": [
      "False\n",
      "{'Smartphone': 1, 'Tablet': 2, 'Desktop': 0}\n"
     ]
    }
   ],
   "source": [
    "df = campaign_data\n",
    "le = preprocessing.LabelEncoder()\n",
    "le.fit(df['device'])\n",
    "df['device_int'] = le.transform(df['device'])\n",
    "df = df[['hour', 'segments', 'device', 'device_int', 'result']]\n",
    "print(df['device_int'].isnull().any())\n",
    "print(dict(zip(df['device'], df['device_int'])))"
   ]
  },
  {
   "cell_type": "code",
   "execution_count": 264,
   "metadata": {},
   "outputs": [
    {
     "data": {
      "text/html": [
       "<div>\n",
       "<style scoped>\n",
       "    .dataframe tbody tr th:only-of-type {\n",
       "        vertical-align: middle;\n",
       "    }\n",
       "\n",
       "    .dataframe tbody tr th {\n",
       "        vertical-align: top;\n",
       "    }\n",
       "\n",
       "    .dataframe thead th {\n",
       "        text-align: right;\n",
       "    }\n",
       "</style>\n",
       "<table border=\"1\" class=\"dataframe\">\n",
       "  <thead>\n",
       "    <tr style=\"text-align: right;\">\n",
       "      <th></th>\n",
       "      <th>hour</th>\n",
       "      <th>segments</th>\n",
       "      <th>device</th>\n",
       "      <th>device_int</th>\n",
       "      <th>result</th>\n",
       "    </tr>\n",
       "  </thead>\n",
       "  <tbody>\n",
       "    <tr>\n",
       "      <th>0</th>\n",
       "      <td>9</td>\n",
       "      <td>51</td>\n",
       "      <td>Smartphone</td>\n",
       "      <td>1</td>\n",
       "      <td>1</td>\n",
       "    </tr>\n",
       "    <tr>\n",
       "      <th>1</th>\n",
       "      <td>9</td>\n",
       "      <td>51</td>\n",
       "      <td>Tablet</td>\n",
       "      <td>2</td>\n",
       "      <td>1</td>\n",
       "    </tr>\n",
       "    <tr>\n",
       "      <th>2</th>\n",
       "      <td>9</td>\n",
       "      <td>91</td>\n",
       "      <td>Smartphone</td>\n",
       "      <td>1</td>\n",
       "      <td>1</td>\n",
       "    </tr>\n",
       "    <tr>\n",
       "      <th>3</th>\n",
       "      <td>9</td>\n",
       "      <td>331</td>\n",
       "      <td>Desktop</td>\n",
       "      <td>0</td>\n",
       "      <td>1</td>\n",
       "    </tr>\n",
       "    <tr>\n",
       "      <th>4</th>\n",
       "      <td>9</td>\n",
       "      <td>41</td>\n",
       "      <td>Smartphone</td>\n",
       "      <td>1</td>\n",
       "      <td>1</td>\n",
       "    </tr>\n",
       "  </tbody>\n",
       "</table>\n",
       "</div>"
      ],
      "text/plain": [
       "   hour  segments      device  device_int  result\n",
       "0     9        51  Smartphone           1       1\n",
       "1     9        51      Tablet           2       1\n",
       "2     9        91  Smartphone           1       1\n",
       "3     9       331     Desktop           0       1\n",
       "4     9        41  Smartphone           1       1"
      ]
     },
     "execution_count": 264,
     "metadata": {},
     "output_type": "execute_result"
    }
   ],
   "source": [
    "df.head()"
   ]
  },
  {
   "cell_type": "markdown",
   "metadata": {},
   "source": [
    "### Exploratory Data Analysis\n",
    "Certain hours of the day correlate with higher conversion rates. "
   ]
  },
  {
   "cell_type": "code",
   "execution_count": 265,
   "metadata": {},
   "outputs": [
    {
     "data": {
      "text/plain": [
       "Text(0.5,0,'Hour')"
      ]
     },
     "execution_count": 265,
     "metadata": {},
     "output_type": "execute_result"
    },
    {
     "data": {
      "image/png": "[encoded data removed]",
      "text/plain": [
       "<Figure size 720x432 with 1 Axes>"
      ]
     },
     "metadata": {
      "needs_background": "light"
     },
     "output_type": "display_data"
    }
   ],
   "source": [
    "def distplot(feature):\n",
    "    fig, ax = plt.subplots(1,1,figsize=(10,6))\n",
    "    sns.distplot(df[feature][df['result']==1] ,color='hotpink', ax=ax)\n",
    "    sns.distplot(df[feature][df['result']==0] ,color='mediumblue', ax=ax )\n",
    "    plt.legend(['Conversion', 'No Conversion'])\n",
    "\n",
    "distplot('hour')\n",
    "plt.title('Campaign Conversion Highest Midday and Late Night')\n",
    "plt.xlabel('Hour')"
   ]
  },
  {
   "cell_type": "markdown",
   "metadata": {},
   "source": [
    "We see the highest conversion rates happen during lunch time (10 am to 12 pm). Around 3 pm, there is a significant decline in conversion rates, however it increases significantly at 4 pm and very slowly tapers down from 5 pm to midnight. The chances of non-conversion outweight conversion during the hours of 11 am to 9 pm, however, which is important to note, as it means that even if we campaign more in the evening, it may not be as sucessful as campaigning aggressively at midnight or 10 am, when the probability of conversion  is higher than the probability of non-conversion."
   ]
  },
  {
   "cell_type": "code",
   "execution_count": 266,
   "metadata": {},
   "outputs": [
    {
     "data": {
      "text/plain": [
       "109"
      ]
     },
     "execution_count": 266,
     "metadata": {},
     "output_type": "execute_result"
    }
   ],
   "source": [
    "num = 10\n",
    "hour_df = df[df['hour'] == num]\n",
    "len(hour_df)"
   ]
  },
  {
   "cell_type": "code",
   "execution_count": 267,
   "metadata": {},
   "outputs": [
    {
     "data": {
      "text/plain": [
       "Text(0.5,0,'Device')"
      ]
     },
     "execution_count": 267,
     "metadata": {},
     "output_type": "execute_result"
    },
    {
     "data": {
      "image/png": "[encoded data removed]",
      "text/plain": [
       "<Figure size 432x288 with 1 Axes>"
      ]
     },
     "metadata": {
      "needs_background": "light"
     },
     "output_type": "display_data"
    }
   ],
   "source": [
    "sns.countplot(hour_df['device'], palette=(\"autumn\"))\n",
    "plt.title('Campaign Reaches Smartphones Most')\n",
    "plt.xlabel('Device')"
   ]
  },
  {
   "cell_type": "code",
   "execution_count": 268,
   "metadata": {},
   "outputs": [
    {
     "data": {
      "text/plain": [
       "Text(0.5,0,'Device')"
      ]
     },
     "execution_count": 268,
     "metadata": {},
     "output_type": "execute_result"
    },
    {
     "data": {
      "image/png": "[encoded data removed]",
      "text/plain": [
       "<Figure size 432x288 with 1 Axes>"
      ]
     },
     "metadata": {
      "needs_background": "light"
     },
     "output_type": "display_data"
    }
   ],
   "source": [
    "sns.countplot(hour_df['device'], palette=(\"autumn\"), hue=hour_df['result'])\n",
    "plt.title('Tablet Users Have Highest Conversion Rate')\n",
    "plt.xlabel('Device')"
   ]
  },
  {
   "cell_type": "markdown",
   "metadata": {},
   "source": [
    "If we isolate the hour in which we are most successful, 10 am, then we see that although our campain reaches more smartphone users, we are most successful with tablet users. Tablet users are around 11 times more likely to convert than not convert. To understand if the potential for tapping further into this opportunity, we can explore other time slots."
   ]
  },
  {
   "cell_type": "code",
   "execution_count": 269,
   "metadata": {},
   "outputs": [],
   "source": [
    "hour_df_two = df[df['hour'] != num]"
   ]
  },
  {
   "cell_type": "code",
   "execution_count": 270,
   "metadata": {},
   "outputs": [
    {
     "data": {
      "text/plain": [
       "Text(0.5,0,'Device')"
      ]
     },
     "execution_count": 270,
     "metadata": {},
     "output_type": "execute_result"
    },
    {
     "data": {
      "image/png": "[encoded data removed]",
      "text/plain": [
       "<Figure size 432x288 with 1 Axes>"
      ]
     },
     "metadata": {
      "needs_background": "light"
     },
     "output_type": "display_data"
    }
   ],
   "source": [
    "sns.countplot(hour_df_two['device'], palette=(\"autumn\"))\n",
    "plt.title('Campaign Reaches Smartphones Most')\n",
    "plt.xlabel('Device')"
   ]
  },
  {
   "cell_type": "code",
   "execution_count": 271,
   "metadata": {},
   "outputs": [
    {
     "data": {
      "text/plain": [
       "Text(0.5,0,'Device')"
      ]
     },
     "execution_count": 271,
     "metadata": {},
     "output_type": "execute_result"
    },
    {
     "data": {
      "image/png": "[encoded data removed]",
      "text/plain": [
       "<Figure size 432x288 with 1 Axes>"
      ]
     },
     "metadata": {
      "needs_background": "light"
     },
     "output_type": "display_data"
    }
   ],
   "source": [
    "sns.countplot(hour_df_two['device'], palette=(\"autumn\"), hue=hour_df_two['result'])\n",
    "plt.title('Tablet Users Have Highest Conversion Rate')\n",
    "plt.xlabel('Device')"
   ]
  },
  {
   "cell_type": "markdown",
   "metadata": {},
   "source": [
    "When we look at the hours that are not 10 am, we see that tablets still performly strongly (in terms of probability), however the conversion rate is lower than it was at 10 am (nearly all tablet users at 10 am converted, whereas only half converted at hours that were not 10 am. This suggests that device may be a weaker feature for conversion prediction compared to hour."
   ]
  },
  {
   "cell_type": "code",
   "execution_count": 272,
   "metadata": {},
   "outputs": [],
   "source": [
    "num_two = 15\n",
    "hour_df_three = df[df['hour'] == num_two]"
   ]
  },
  {
   "cell_type": "code",
   "execution_count": 273,
   "metadata": {},
   "outputs": [
    {
     "data": {
      "text/plain": [
       "Text(0.5,0,'Device')"
      ]
     },
     "execution_count": 273,
     "metadata": {},
     "output_type": "execute_result"
    },
    {
     "data": {
      "image/png": "[encoded data removed]",
      "text/plain": [
       "<Figure size 432x288 with 1 Axes>"
      ]
     },
     "metadata": {
      "needs_background": "light"
     },
     "output_type": "display_data"
    }
   ],
   "source": [
    "sns.countplot(hour_df_three['device'], palette=(\"autumn\"))\n",
    "plt.title('Campaign Reaches Smartphones Most')\n",
    "plt.xlabel('Device')"
   ]
  },
  {
   "cell_type": "code",
   "execution_count": 274,
   "metadata": {},
   "outputs": [
    {
     "data": {
      "text/plain": [
       "Text(0.5,0,'Device')"
      ]
     },
     "execution_count": 274,
     "metadata": {},
     "output_type": "execute_result"
    },
    {
     "data": {
      "image/png": "[encoded data removed]",
      "text/plain": [
       "<Figure size 432x288 with 1 Axes>"
      ]
     },
     "metadata": {
      "needs_background": "light"
     },
     "output_type": "display_data"
    }
   ],
   "source": [
    "sns.countplot(hour_df_three['device'], palette=(\"autumn\"), hue=hour_df_three['result'])\n",
    "plt.title('Tablet Users Have Highest Conversion Rate')\n",
    "plt.xlabel('Device')"
   ]
  },
  {
   "cell_type": "markdown",
   "metadata": {},
   "source": [
    "The worst time for conversion was 3 pm (hour 15), when non-conversion count was highest, and converstion count was lowest. Tablet still performs better in terms of conversion probability, but is much weaker at 3 am than our previous comparisons. This supports the notion that hour is stronger at predicting conversion over device."
   ]
  },
  {
   "cell_type": "code",
   "execution_count": 275,
   "metadata": {},
   "outputs": [
    {
     "data": {
      "text/plain": [
       "Text(0.5,0,'Device')"
      ]
     },
     "execution_count": 275,
     "metadata": {},
     "output_type": "execute_result"
    },
    {
     "data": {
      "image/png": "[encoded data removed]",
      "text/plain": [
       "<Figure size 432x288 with 1 Axes>"
      ]
     },
     "metadata": {
      "needs_background": "light"
     },
     "output_type": "display_data"
    }
   ],
   "source": [
    "sns.countplot(df['device'], palette=(\"autumn\"))\n",
    "plt.title('Campaign Reaches Smartphones Most')\n",
    "plt.xlabel('Device')"
   ]
  },
  {
   "cell_type": "code",
   "execution_count": 276,
   "metadata": {},
   "outputs": [
    {
     "data": {
      "text/plain": [
       "Text(0.5,0,'Device')"
      ]
     },
     "execution_count": 276,
     "metadata": {},
     "output_type": "execute_result"
    },
    {
     "data": {
      "image/png": "[encoded data removed]",
      "text/plain": [
       "<Figure size 432x288 with 1 Axes>"
      ]
     },
     "metadata": {
      "needs_background": "light"
     },
     "output_type": "display_data"
    }
   ],
   "source": [
    "sns.countplot(df['device'], palette=(\"autumn\"), hue=df['result'])\n",
    "plt.title('Tablet Users Have Highest Conversion Rate')\n",
    "plt.xlabel('Device')"
   ]
  },
  {
   "cell_type": "markdown",
   "metadata": {},
   "source": [
    "In general, the success that we see overall in the tablet device is an average of a very successful hour for conversion at 10 am, when most tablet users converted. Tablet users do have a higher probability of conversion, but the device choice alone is not a good enough feature for prediction. "
   ]
  },
  {
   "cell_type": "code",
   "execution_count": 277,
   "metadata": {},
   "outputs": [
    {
     "data": {
      "text/plain": [
       "Text(0.5,0,'Hour')"
      ]
     },
     "execution_count": 277,
     "metadata": {},
     "output_type": "execute_result"
    },
    {
     "data": {
      "image/png": "[encoded data removed]",
      "text/plain": [
       "<Figure size 720x432 with 1 Axes>"
      ]
     },
     "metadata": {
      "needs_background": "light"
     },
     "output_type": "display_data"
    }
   ],
   "source": [
    "distplot('segments')\n",
    "plt.title('Campaign Conversion Highest Midday and Late Night')\n",
    "plt.xlabel('Hour')"
   ]
  },
  {
   "cell_type": "markdown",
   "metadata": {},
   "source": [
    "From this distplot, we can see that segmentation itself does not look like a decisive factor because there are equal chances of conversoin and non conversion across all time periods. There is more activity within certain segments though (the first and last segment), and the last segment has the best conversion probability. We can drill down further to learn more about what causes this peak."
   ]
  },
  {
   "cell_type": "code",
   "execution_count": 278,
   "metadata": {},
   "outputs": [
    {
     "data": {
      "text/plain": [
       "341    136\n",
       "261    135\n",
       "331    132\n",
       "251    124\n",
       "21     123\n",
       "Name: segments, dtype: int64"
      ]
     },
     "execution_count": 278,
     "metadata": {},
     "output_type": "execute_result"
    }
   ],
   "source": [
    "df['segments'].value_counts()[:5]"
   ]
  },
  {
   "cell_type": "code",
   "execution_count": 279,
   "metadata": {},
   "outputs": [
    {
     "data": {
      "text/plain": [
       "211    74\n",
       "181    72\n",
       "171    72\n",
       "191    67\n",
       "201    65\n",
       "Name: segments, dtype: int64"
      ]
     },
     "execution_count": 279,
     "metadata": {},
     "output_type": "execute_result"
    }
   ],
   "source": [
    "df['segments'].value_counts()[-5:]"
   ]
  },
  {
   "cell_type": "code",
   "execution_count": 280,
   "metadata": {},
   "outputs": [],
   "source": [
    "seg = 341\n",
    "segment_df = df[df['segments'] == seg]"
   ]
  },
  {
   "cell_type": "code",
   "execution_count": 281,
   "metadata": {},
   "outputs": [
    {
     "data": {
      "text/plain": [
       "Text(0.5,0,'Device')"
      ]
     },
     "execution_count": 281,
     "metadata": {},
     "output_type": "execute_result"
    },
    {
     "data": {
      "image/png": "[encoded data removed]",
      "text/plain": [
       "<Figure size 432x288 with 1 Axes>"
      ]
     },
     "metadata": {
      "needs_background": "light"
     },
     "output_type": "display_data"
    }
   ],
   "source": [
    "sns.countplot(segment_df['device'], palette=(\"autumn\"))\n",
    "plt.title('Campaign Reaches Smartphones Most')\n",
    "plt.xlabel('Device')"
   ]
  },
  {
   "cell_type": "code",
   "execution_count": 282,
   "metadata": {},
   "outputs": [
    {
     "data": {
      "text/plain": [
       "Text(0.5,0,'Device')"
      ]
     },
     "execution_count": 282,
     "metadata": {},
     "output_type": "execute_result"
    },
    {
     "data": {
      "image/png": "[encoded data removed]",
      "text/plain": [
       "<Figure size 432x288 with 1 Axes>"
      ]
     },
     "metadata": {
      "needs_background": "light"
     },
     "output_type": "display_data"
    }
   ],
   "source": [
    "sns.countplot(segment_df['device'], palette=(\"autumn\"), hue=segment_df['result'])\n",
    "plt.title('Tablet Users Have Highest Conversion Rate')\n",
    "plt.xlabel('Device')"
   ]
  },
  {
   "cell_type": "code",
   "execution_count": 283,
   "metadata": {},
   "outputs": [],
   "source": [
    "segment_one = df[df['segments'] == 251]"
   ]
  },
  {
   "cell_type": "code",
   "execution_count": 284,
   "metadata": {},
   "outputs": [
    {
     "data": {
      "text/plain": [
       "Text(0.5,0,'Device')"
      ]
     },
     "execution_count": 284,
     "metadata": {},
     "output_type": "execute_result"
    },
    {
     "data": {
      "image/png": "[encoded data removed]",
      "text/plain": [
       "<Figure size 432x288 with 1 Axes>"
      ]
     },
     "metadata": {
      "needs_background": "light"
     },
     "output_type": "display_data"
    }
   ],
   "source": [
    "sns.countplot(segment_one['device'], palette=(\"autumn\"))\n",
    "plt.title('Campaign Reaches Smartphones Most')\n",
    "plt.xlabel('Device')"
   ]
  },
  {
   "cell_type": "code",
   "execution_count": 285,
   "metadata": {},
   "outputs": [
    {
     "data": {
      "text/plain": [
       "Text(0.5,0,'Device')"
      ]
     },
     "execution_count": 285,
     "metadata": {},
     "output_type": "execute_result"
    },
    {
     "data": {
      "image/png": "[encoded data removed]",
      "text/plain": [
       "<Figure size 432x288 with 1 Axes>"
      ]
     },
     "metadata": {
      "needs_background": "light"
     },
     "output_type": "display_data"
    }
   ],
   "source": [
    "sns.countplot(segment_one['device'], palette=(\"autumn\"), hue=segment_one['result'])\n",
    "plt.title('Tablet Users Have Highest Conversion Rate')\n",
    "plt.xlabel('Device')"
   ]
  },
  {
   "cell_type": "markdown",
   "metadata": {},
   "source": [
    "In the segments with higher conversion probability than non-conversion, we see that there is no noticeable correlation between the device used and result. This means that device may not be a meaningful feature when paired with segments."
   ]
  },
  {
   "cell_type": "code",
   "execution_count": 286,
   "metadata": {},
   "outputs": [],
   "source": [
    "segment_df_two = df[df['segments'] == 201]"
   ]
  },
  {
   "cell_type": "code",
   "execution_count": 287,
   "metadata": {},
   "outputs": [
    {
     "data": {
      "text/plain": [
       "Text(0.5,0,'Device')"
      ]
     },
     "execution_count": 287,
     "metadata": {},
     "output_type": "execute_result"
    },
    {
     "data": {
      "image/png": "[encoded data removed]",
      "text/plain": [
       "<Figure size 432x288 with 1 Axes>"
      ]
     },
     "metadata": {
      "needs_background": "light"
     },
     "output_type": "display_data"
    }
   ],
   "source": [
    "sns.countplot(segment_df_two['device'], palette=(\"autumn\"))\n",
    "plt.title('Campaign Reaches Smartphones Most')\n",
    "plt.xlabel('Device')"
   ]
  },
  {
   "cell_type": "code",
   "execution_count": 288,
   "metadata": {},
   "outputs": [
    {
     "data": {
      "text/plain": [
       "Text(0.5,0,'Device')"
      ]
     },
     "execution_count": 288,
     "metadata": {},
     "output_type": "execute_result"
    },
    {
     "data": {
      "image/png": "[encoded data removed]",
      "text/plain": [
       "<Figure size 432x288 with 1 Axes>"
      ]
     },
     "metadata": {
      "needs_background": "light"
     },
     "output_type": "display_data"
    }
   ],
   "source": [
    "sns.countplot(segment_df_two['device'], palette=(\"autumn\"), hue=segment_df_two['result'])\n",
    "plt.title('Tablet Users Have Highest Conversion Rate')\n",
    "plt.xlabel('Device')"
   ]
  },
  {
   "cell_type": "markdown",
   "metadata": {},
   "source": [
    "With our most successful segment, segment 341, we see that there is no strong connection between the segment and device in terms of conversion rate. However, in our least successful segment, segment 201, we see that tablet users are most likely to convert. We can look at segments around it that performed similarly to verify this hypthesis."
   ]
  },
  {
   "cell_type": "code",
   "execution_count": 289,
   "metadata": {},
   "outputs": [],
   "source": [
    "segment_df_three = df[df['segments'] == 191]"
   ]
  },
  {
   "cell_type": "code",
   "execution_count": 290,
   "metadata": {},
   "outputs": [
    {
     "data": {
      "text/plain": [
       "Text(0.5,0,'Device')"
      ]
     },
     "execution_count": 290,
     "metadata": {},
     "output_type": "execute_result"
    },
    {
     "data": {
      "image/png": "[encoded data removed]",
      "text/plain": [
       "<Figure size 432x288 with 1 Axes>"
      ]
     },
     "metadata": {
      "needs_background": "light"
     },
     "output_type": "display_data"
    }
   ],
   "source": [
    "sns.countplot(segment_df_three['device'], palette=(\"autumn\"))\n",
    "plt.title('Campaign Reaches Smartphones Most')\n",
    "plt.xlabel('Device')"
   ]
  },
  {
   "cell_type": "code",
   "execution_count": 291,
   "metadata": {},
   "outputs": [
    {
     "data": {
      "text/plain": [
       "Text(0.5,0,'Device')"
      ]
     },
     "execution_count": 291,
     "metadata": {},
     "output_type": "execute_result"
    },
    {
     "data": {
      "image/png": "[encoded data removed]",
      "text/plain": [
       "<Figure size 432x288 with 1 Axes>"
      ]
     },
     "metadata": {
      "needs_background": "light"
     },
     "output_type": "display_data"
    }
   ],
   "source": [
    "sns.countplot(segment_df_three['device'], palette=(\"autumn\"), hue=segment_df_three['result'])\n",
    "plt.title('Tablet Users Have Highest Conversion Rate')\n",
    "plt.xlabel('Device')"
   ]
  },
  {
   "cell_type": "code",
   "execution_count": 292,
   "metadata": {},
   "outputs": [],
   "source": [
    "segment_df_four = df[df['segments'] == 171]"
   ]
  },
  {
   "cell_type": "code",
   "execution_count": 293,
   "metadata": {},
   "outputs": [
    {
     "data": {
      "text/plain": [
       "Text(0.5,0,'Device')"
      ]
     },
     "execution_count": 293,
     "metadata": {},
     "output_type": "execute_result"
    },
    {
     "data": {
      "image/png": "[encoded data removed]",
      "text/plain": [
       "<Figure size 432x288 with 1 Axes>"
      ]
     },
     "metadata": {
      "needs_background": "light"
     },
     "output_type": "display_data"
    }
   ],
   "source": [
    "sns.countplot(segment_df_four['device'], palette=(\"autumn\"))\n",
    "plt.title('Campaign Reaches Smartphones Most')\n",
    "plt.xlabel('Device')"
   ]
  },
  {
   "cell_type": "code",
   "execution_count": 294,
   "metadata": {},
   "outputs": [
    {
     "data": {
      "text/plain": [
       "Text(0.5,0,'Device')"
      ]
     },
     "execution_count": 294,
     "metadata": {},
     "output_type": "execute_result"
    },
    {
     "data": {
      "image/png": "[encoded data removed]",
      "text/plain": [
       "<Figure size 432x288 with 1 Axes>"
      ]
     },
     "metadata": {
      "needs_background": "light"
     },
     "output_type": "display_data"
    }
   ],
   "source": [
    "sns.countplot(segment_df_four['device'], palette=(\"autumn\"), hue=segment_df_four['result'])\n",
    "plt.title('Tablet Users Have Highest Conversion Rate')\n",
    "plt.xlabel('Device')"
   ]
  },
  {
   "cell_type": "markdown",
   "metadata": {},
   "source": [
    "In our least successful segments, where non-conversion was higher than conversion, we see that tablet users were much more likely to convert. This means that the device feature relies on the segment feature, and the segment feature could be important in helping us campain better."
   ]
  },
  {
   "cell_type": "code",
   "execution_count": 295,
   "metadata": {},
   "outputs": [
    {
     "data": {
      "text/plain": [
       "Text(0.5,0,'Hour')"
      ]
     },
     "execution_count": 295,
     "metadata": {},
     "output_type": "execute_result"
    },
    {
     "data": {
      "image/png": "[encoded data removed]",
      "text/plain": [
       "<Figure size 432x288 with 1 Axes>"
      ]
     },
     "metadata": {
      "needs_background": "light"
     },
     "output_type": "display_data"
    }
   ],
   "source": [
    "seg = 191\n",
    "segment_df = df[df['segments'] == seg]\n",
    "sns.countplot(segment_df['hour'], palette=(\"autumn\"), hue=segment_df['result'])\n",
    "plt.xlabel('Hour')"
   ]
  },
  {
   "cell_type": "code",
   "execution_count": 296,
   "metadata": {},
   "outputs": [
    {
     "data": {
      "text/plain": [
       "Text(0.5,0,'Hour')"
      ]
     },
     "execution_count": 296,
     "metadata": {},
     "output_type": "execute_result"
    },
    {
     "data": {
      "image/png": "[encoded data removed]",
      "text/plain": [
       "<Figure size 432x288 with 1 Axes>"
      ]
     },
     "metadata": {
      "needs_background": "light"
     },
     "output_type": "display_data"
    }
   ],
   "source": [
    "seg = 341\n",
    "segment_df = df[df['segments'] == seg]\n",
    "sns.countplot(segment_df['hour'], palette=(\"autumn\"), hue=segment_df['result'])\n",
    "plt.xlabel('Hour')"
   ]
  },
  {
   "cell_type": "code",
   "execution_count": 297,
   "metadata": {},
   "outputs": [
    {
     "data": {
      "text/plain": [
       "Text(0.5,0,'Hour')"
      ]
     },
     "execution_count": 297,
     "metadata": {},
     "output_type": "execute_result"
    },
    {
     "data": {
      "image/png": "[encoded data removed]",
      "text/plain": [
       "<Figure size 432x288 with 1 Axes>"
      ]
     },
     "metadata": {
      "needs_background": "light"
     },
     "output_type": "display_data"
    }
   ],
   "source": [
    "seg = 251\n",
    "segment_df = df[df['segments'] == seg]\n",
    "sns.countplot(segment_df['hour'], palette=(\"autumn\"), hue=segment_df['result'])\n",
    "plt.xlabel('Hour')"
   ]
  },
  {
   "cell_type": "code",
   "execution_count": 298,
   "metadata": {},
   "outputs": [
    {
     "data": {
      "text/plain": [
       "Text(0.5,0,'Segments')"
      ]
     },
     "execution_count": 298,
     "metadata": {},
     "output_type": "execute_result"
    },
    {
     "data": {
      "image/png": "[encoded data removed]",
      "text/plain": [
       "<Figure size 432x288 with 1 Axes>"
      ]
     },
     "metadata": {
      "needs_background": "light"
     },
     "output_type": "display_data"
    }
   ],
   "source": [
    "sns.countplot(df['segments'], palette=(\"autumn\"), hue=df['result'])\n",
    "plt.title('Segmentation Count')\n",
    "plt.xlabel('Segments')"
   ]
  },
  {
   "cell_type": "markdown",
   "metadata": {},
   "source": [
    "The patterns for different segments vary by each hour, meaning that the hour and segment features are both independent. The There are certain segments that are more successful in terms of conversion than others, and if we target specific devices in certain segments that can help us with our campaign. Targeting certain segments at specific hours can also help us encourage conversion."
   ]
  },
  {
   "cell_type": "markdown",
   "metadata": {},
   "source": [
    "### Modeling Data\n",
    "From the exploratory data analysis, we hypothesize that time and segmentation are the strongest features for predicting which users will convert. This is because segmentation does not seem to correlate strongly with hour, meaning that the two paired together could be strong predictors. Targeting specific devices at specific times (such as tablet users at 10 am) looks like a strong strategy to consider, according to our analysis, so device paired with either feature could improve the accuracy of our model.\n",
    "\n",
    "We build an ML pipeline to see which algorithm gives us the most accurate prediction for our data. From there, we can narrow down and see which features improve accuracy the most and plot feature importances to gather more support for our hypothesis."
   ]
  },
  {
   "cell_type": "code",
   "execution_count": 299,
   "metadata": {},
   "outputs": [
    {
     "name": "stdout",
     "output_type": "stream",
     "text": [
      "Requirement already satisfied: xgboost in ./Library/Python/3.7/lib/python/site-packages (0.90)\n",
      "Requirement already satisfied: scipy in ./Library/Python/3.7/lib/python/site-packages (from xgboost) (1.4.1)\n",
      "Requirement already satisfied: numpy in /usr/local/lib/python3.7/site-packages (from xgboost) (1.17.4)\n",
      "Requirement already satisfied: pdpbox in ./Library/Python/3.7/lib/python/site-packages (0.2.0)\n",
      "Requirement already satisfied: numpy in /usr/local/lib/python3.7/site-packages (from pdpbox) (1.17.4)\n",
      "Requirement already satisfied: scikit-learn in ./Library/Python/3.7/lib/python/site-packages (from pdpbox) (0.22.1)\n",
      "Requirement already satisfied: joblib in ./Library/Python/3.7/lib/python/site-packages (from pdpbox) (0.14.1)\n",
      "Requirement already satisfied: scipy in ./Library/Python/3.7/lib/python/site-packages (from pdpbox) (1.4.1)\n",
      "Requirement already satisfied: matplotlib>=2.1.2 in ./Library/Python/3.7/lib/python/site-packages (from pdpbox) (3.1.2)\n",
      "Requirement already satisfied: psutil in ./Library/Python/3.7/lib/python/site-packages (from pdpbox) (5.6.7)\n",
      "Requirement already satisfied: pandas in ./Library/Python/3.7/lib/python/site-packages (from pdpbox) (0.25.3)\n",
      "Requirement already satisfied: cycler>=0.10 in ./Library/Python/3.7/lib/python/site-packages (from matplotlib>=2.1.2->pdpbox) (0.10.0)\n",
      "Requirement already satisfied: pyparsing!=2.0.4,!=2.1.2,!=2.1.6,>=2.0.1 in ./Library/Python/3.7/lib/python/site-packages (from matplotlib>=2.1.2->pdpbox) (2.4.6)\n",
      "Requirement already satisfied: kiwisolver>=1.0.1 in ./Library/Python/3.7/lib/python/site-packages (from matplotlib>=2.1.2->pdpbox) (1.1.0)\n",
      "Requirement already satisfied: python-dateutil>=2.1 in /usr/local/lib/python3.7/site-packages (from matplotlib>=2.1.2->pdpbox) (2.8.1)\n",
      "Requirement already satisfied: pytz>=2017.2 in ./Library/Python/3.7/lib/python/site-packages (from pandas->pdpbox) (2019.3)\n",
      "Requirement already satisfied: six in /usr/local/lib/python3.7/site-packages (from cycler>=0.10->matplotlib>=2.1.2->pdpbox) (1.13.0)\n",
      "Requirement already satisfied: setuptools in /usr/local/lib/python3.7/site-packages (from kiwisolver>=1.0.1->matplotlib>=2.1.2->pdpbox) (41.6.0)\n"
     ]
    }
   ],
   "source": [
    "! pip3 install xgboost --user\n",
    "! pip3 install pdpbox --user"
   ]
  },
  {
   "cell_type": "code",
   "execution_count": 300,
   "metadata": {},
   "outputs": [],
   "source": [
    "data = df[['hour', 'segments', 'device_int']]\n",
    "target = df[['result']]"
   ]
  },
  {
   "cell_type": "code",
   "execution_count": 301,
   "metadata": {},
   "outputs": [
    {
     "data": {
      "text/plain": [
       "(2318, 3)"
      ]
     },
     "execution_count": 301,
     "metadata": {},
     "output_type": "execute_result"
    }
   ],
   "source": [
    "#Split data into 70% train, 30% validation (test) split\n",
    "X_train, X_test, y_train, y_test = train_test_split(data, target, test_size= 0.3, random_state=42)\n",
    "X_train.shape"
   ]
  },
  {
   "cell_type": "code",
   "execution_count": 302,
   "metadata": {},
   "outputs": [
    {
     "data": {
      "text/plain": [
       "hour          int64\n",
       "segments      int64\n",
       "device_int    int64\n",
       "dtype: object"
      ]
     },
     "execution_count": 302,
     "metadata": {},
     "output_type": "execute_result"
    }
   ],
   "source": [
    "#Clean the data to either replace or remove string columns\n",
    "X_train.dtypes"
   ]
  },
  {
   "cell_type": "code",
   "execution_count": 303,
   "metadata": {},
   "outputs": [
    {
     "data": {
      "text/html": [
       "<div>\n",
       "<style scoped>\n",
       "    .dataframe tbody tr th:only-of-type {\n",
       "        vertical-align: middle;\n",
       "    }\n",
       "\n",
       "    .dataframe tbody tr th {\n",
       "        vertical-align: top;\n",
       "    }\n",
       "\n",
       "    .dataframe thead th {\n",
       "        text-align: right;\n",
       "    }\n",
       "</style>\n",
       "<table border=\"1\" class=\"dataframe\">\n",
       "  <thead>\n",
       "    <tr style=\"text-align: right;\">\n",
       "      <th></th>\n",
       "      <th>DecisionTreeClassifier</th>\n",
       "      <th>RandomForestClassifier</th>\n",
       "      <th>ExtraTreesClassifier</th>\n",
       "      <th>XGBClassifier</th>\n",
       "      <th>KNeighborsClassifier</th>\n",
       "      <th>BaggingClassifier</th>\n",
       "    </tr>\n",
       "  </thead>\n",
       "  <tbody>\n",
       "    <tr>\n",
       "      <th>train_score</th>\n",
       "      <td>0.751079</td>\n",
       "      <td>0.746333</td>\n",
       "      <td>0.751079</td>\n",
       "      <td>0.643227</td>\n",
       "      <td>0.667817</td>\n",
       "      <td>0.747627</td>\n",
       "    </tr>\n",
       "    <tr>\n",
       "      <th>test_score</th>\n",
       "      <td>0.343058</td>\n",
       "      <td>0.364185</td>\n",
       "      <td>0.349095</td>\n",
       "      <td>0.586519</td>\n",
       "      <td>0.479879</td>\n",
       "      <td>0.355131</td>\n",
       "    </tr>\n",
       "    <tr>\n",
       "      <th>train_rmse</th>\n",
       "      <td>0.498920</td>\n",
       "      <td>0.503654</td>\n",
       "      <td>0.498920</td>\n",
       "      <td>0.597305</td>\n",
       "      <td>0.576353</td>\n",
       "      <td>0.502367</td>\n",
       "    </tr>\n",
       "    <tr>\n",
       "      <th>test_rmse</th>\n",
       "      <td>0.810519</td>\n",
       "      <td>0.797380</td>\n",
       "      <td>0.806787</td>\n",
       "      <td>0.643025</td>\n",
       "      <td>0.721194</td>\n",
       "      <td>0.803037</td>\n",
       "    </tr>\n",
       "    <tr>\n",
       "      <th>train_r2</th>\n",
       "      <td>0.004017</td>\n",
       "      <td>-0.014970</td>\n",
       "      <td>0.004017</td>\n",
       "      <td>-0.427517</td>\n",
       "      <td>-0.329127</td>\n",
       "      <td>-0.009792</td>\n",
       "    </tr>\n",
       "    <tr>\n",
       "      <th>test_r2</th>\n",
       "      <td>-1.631218</td>\n",
       "      <td>-1.546600</td>\n",
       "      <td>-1.607041</td>\n",
       "      <td>-0.656096</td>\n",
       "      <td>-1.083215</td>\n",
       "      <td>-1.582865</td>\n",
       "    </tr>\n",
       "  </tbody>\n",
       "</table>\n",
       "</div>"
      ],
      "text/plain": [
       "             DecisionTreeClassifier  RandomForestClassifier  \\\n",
       "train_score                0.751079                0.746333   \n",
       "test_score                 0.343058                0.364185   \n",
       "train_rmse                 0.498920                0.503654   \n",
       "test_rmse                  0.810519                0.797380   \n",
       "train_r2                   0.004017               -0.014970   \n",
       "test_r2                   -1.631218               -1.546600   \n",
       "\n",
       "             ExtraTreesClassifier  XGBClassifier  KNeighborsClassifier  \\\n",
       "train_score              0.751079       0.643227              0.667817   \n",
       "test_score               0.349095       0.586519              0.479879   \n",
       "train_rmse               0.498920       0.597305              0.576353   \n",
       "test_rmse                0.806787       0.643025              0.721194   \n",
       "train_r2                 0.004017      -0.427517             -0.329127   \n",
       "test_r2                 -1.607041      -0.656096             -1.083215   \n",
       "\n",
       "             BaggingClassifier  \n",
       "train_score           0.747627  \n",
       "test_score            0.355131  \n",
       "train_rmse            0.502367  \n",
       "test_rmse             0.803037  \n",
       "train_r2             -0.009792  \n",
       "test_r2              -1.582865  "
      ]
     },
     "execution_count": 303,
     "metadata": {},
     "output_type": "execute_result"
    }
   ],
   "source": [
    "#Build ML pipeline to perform quick analysis with classification algorithms\n",
    "def quick_eval(pipeline, X_train, y_train, X_test, y_test, verbose=True):\n",
    "    '''More advanced pipeline that uses DecisionTree,\n",
    "    RandomForest, XGBoost, CatBoost and LightGBM as estimators'''\n",
    "    \n",
    "    pipeline.fit(X_train, y_train)\n",
    "    y_train_pred = pipeline.predict(X_train)\n",
    "    y_test_pred = pipeline.predict(X_test)\n",
    "    \n",
    "    train_score = pipeline.score(X_train, y_train)\n",
    "    test_score = pipeline.score(X_test, y_test)\n",
    "    train_rmse = np.sqrt(mean_squared_error(y_train, y_train_pred))\n",
    "    test_rmse = np.sqrt(mean_squared_error(y_test, y_test_pred))\n",
    "    train_r2 = r2_score(y_train, y_train_pred)\n",
    "    test_r2 = r2_score(y_test, y_test_pred)\n",
    "    \n",
    "    s = [train_score, test_score, train_rmse, test_rmse, train_r2, test_r2]\n",
    "    s_df = pd.DataFrame(s, columns=[pipeline.named_steps['classification'].__class__.__name__], \n",
    "                        index=['train_score', 'test_score', 'train_rmse', 'test_rmse',\n",
    "                              'train_r2', 'test_r2'])\n",
    "    return s_df\n",
    "    \n",
    "classifiers = [\n",
    "    DecisionTreeClassifier(),\n",
    "    RandomForestClassifier(),\n",
    "    ExtraTreesClassifier(),\n",
    "    XGBClassifier(),\n",
    "    KNeighborsClassifier(),\n",
    "    BaggingClassifier()\n",
    "]\n",
    "\n",
    "score_df = pd.DataFrame()\n",
    "\n",
    "for c in classifiers:\n",
    "    pipe = Pipeline(steps = [\n",
    "        ('minmax', MinMaxScaler()),\n",
    "        ('classification', c)\n",
    "    ])\n",
    "\n",
    "    result_df = quick_eval(pipe, X_train, y_train, X_test, y_test)\n",
    "    score_df = pd.concat([score_df, result_df], axis=1)\n",
    "    \n",
    "score_df"
   ]
  },
  {
   "cell_type": "markdown",
   "metadata": {},
   "source": [
    "From our ML pipeline, we see that the tree classifiers perform best, with the DecisionTreeClassifier and ExtraTreesClassifier performing better than the Random Forest Classifier. We can dig inot the feature importance modules of tree classifiers to understand what features were most prominent in these algorithms."
   ]
  },
  {
   "cell_type": "code",
   "execution_count": 304,
   "metadata": {},
   "outputs": [
    {
     "data": {
      "text/plain": [
       "{'device_int': 0.17374261229905641,\n",
       " 'hour': 0.45973311397304267,\n",
       " 'segments': 0.36652427372790103}"
      ]
     },
     "execution_count": 304,
     "metadata": {},
     "output_type": "execute_result"
    }
   ],
   "source": [
    "clf = DecisionTreeClassifier().fit(data, target)\n",
    "dict(zip(data.columns, clf.feature_importances_))"
   ]
  },
  {
   "cell_type": "markdown",
   "metadata": {},
   "source": [
    "The Decision Tree Classifier feature importances attribute shows us that the hour and segments features are prominent in predicting conversion, whereas the device is not nearly as important."
   ]
  },
  {
   "cell_type": "code",
   "execution_count": 305,
   "metadata": {},
   "outputs": [
    {
     "name": "stderr",
     "output_type": "stream",
     "text": [
      "/Library/Frameworks/Python.framework/Versions/2.7/lib/python2.7/site-packages/ipykernel_launcher.py:6: DataConversionWarning: A column-vector y was passed when a 1d array was expected. Please change the shape of y to (n_samples,), for example using ravel().\n",
      "  \n"
     ]
    },
    {
     "name": "stdout",
     "output_type": "stream",
     "text": [
      "Feature ranking:\n",
      "1. feature 0 (0.516753)\n",
      "2. feature 1 (0.383461)\n",
      "3. feature 2 (0.099786)\n"
     ]
    },
    {
     "data": {
      "image/png": "[encoded data removed]",
      "text/plain": [
       "<Figure size 1152x576 with 1 Axes>"
      ]
     },
     "metadata": {
      "needs_background": "light"
     },
     "output_type": "display_data"
    }
   ],
   "source": [
    "# Build a forest and compute the feature importances\n",
    "forest = RandomForestClassifier(n_estimators=250,\n",
    "                              random_state=0)\n",
    "\n",
    "n_features = 3\n",
    "forest.fit(X_train, y_train)\n",
    "importances = forest.feature_importances_\n",
    "std = np.std([tree.feature_importances_ for tree in forest.estimators_],\n",
    "             axis=0)\n",
    "indices = np.argsort(importances)[::-1]\n",
    "\n",
    "# Print the feature ranking\n",
    "print(\"Feature ranking:\")\n",
    "\n",
    "for f in range(n_features):\n",
    "    print(\"%d. feature %d (%f)\" % (f + 1, indices[f], importances[indices[f]]))\n",
    "\n",
    "# Plot the feature importances of the forest\n",
    "plt.figure(figsize=(16,8))\n",
    "plt.title(\"Feature importances\")\n",
    "plt.bar(range(n_features), importances[indices][:n_features],\n",
    "       color=\"r\", yerr=std[indices][:n_features], align=\"center\")\n",
    "plt.xticks(range(n_features), indices)\n",
    "plt.xlim([-1, n_features])\n",
    "plt.show()"
   ]
  },
  {
   "cell_type": "code",
   "execution_count": 306,
   "metadata": {},
   "outputs": [
    {
     "name": "stderr",
     "output_type": "stream",
     "text": [
      "/Library/Frameworks/Python.framework/Versions/2.7/lib/python2.7/site-packages/ipykernel_launcher.py:14: DataConversionWarning: A column-vector y was passed when a 1d array was expected. Please change the shape of y to (n_samples,), for example using ravel().\n",
      "  \n"
     ]
    },
    {
     "name": "stdout",
     "output_type": "stream",
     "text": [
      "\n",
      "Random Forest\n",
      "Accuracy on training set: 0.751\n",
      "Accuracy on test set: 0.359\n"
     ]
    },
    {
     "name": "stderr",
     "output_type": "stream",
     "text": [
      "/Library/Frameworks/Python.framework/Versions/2.7/lib/python2.7/site-packages/ipykernel_launcher.py:21: DataConversionWarning: A column-vector y was passed when a 1d array was expected. Please change the shape of y to (n_samples,), for example using ravel().\n"
     ]
    },
    {
     "name": "stdout",
     "output_type": "stream",
     "text": [
      "\n",
      "Random Forest - Max Depth = 3\n",
      "Accuracy on training set: 0.621\n",
      "Accuracy on test set: 0.591\n",
      "\n",
      "Random Forest Feature Importance\n"
     ]
    },
    {
     "data": {
      "image/png": "[encoded data removed]",
      "text/plain": [
       "<Figure size 720x360 with 1 Axes>"
      ]
     },
     "metadata": {
      "needs_background": "light"
     },
     "output_type": "display_data"
    }
   ],
   "source": [
    "X_train_features = [x for i,x in enumerate(X_train) if i!=8]\n",
    "\n",
    "def plot_feature_importances_costa(model):\n",
    "    plt.figure(figsize=(10,5))\n",
    "    n_features = 3\n",
    "    plt.barh(range(n_features), model.feature_importances_, align='center')\n",
    "    plt.yticks(np.arange(n_features), X_train_features)\n",
    "    plt.xlabel(\"Feature importance\")\n",
    "    plt.ylabel(\"Feature\")\n",
    "    plt.ylim(-1, n_features)\n",
    "    plt.show()\n",
    "\n",
    "rf = RandomForestClassifier(n_estimators=100, random_state=0)\n",
    "rf.fit(X_train, y_train)\n",
    "print(\"\")\n",
    "print('Random Forest')\n",
    "print(\"Accuracy on training set: {:.3f}\".format(rf.score(X_train, y_train)))\n",
    "print(\"Accuracy on test set: {:.3f}\".format(rf.score(X_test, y_test)))\n",
    "\n",
    "rf1 = RandomForestClassifier(max_depth=3, n_estimators=100, random_state=0)\n",
    "rf1.fit(X_train, y_train)\n",
    "print(\"\")\n",
    "print('Random Forest - Max Depth = 3')\n",
    "print(\"Accuracy on training set: {:.3f}\".format(rf1.score(X_train, y_train)))\n",
    "print(\"Accuracy on test set: {:.3f}\".format(rf1.score(X_test, y_test)))\n",
    "\n",
    "print(\"\")\n",
    "print('Random Forest Feature Importance')\n",
    "plot_feature_importances_costa(rf)"
   ]
  },
  {
   "cell_type": "markdown",
   "metadata": {},
   "source": [
    "The feature importance of the Random Forest Classifier supports the feature importance of the Decision Tree Classifier - hour and segments are both more important than device. This could be because hour and segments are not correlated with each other, and due to this lack of correlation, they can work better together to predict conversion, rather than with the device feature, which seems to mildly correlate with both the hour and segments feature."
   ]
  },
  {
   "cell_type": "code",
   "execution_count": 307,
   "metadata": {},
   "outputs": [],
   "source": [
    "X = data.values\n",
    "Y = target.values"
   ]
  },
  {
   "cell_type": "code",
   "execution_count": 308,
   "metadata": {},
   "outputs": [
    {
     "name": "stdout",
     "output_type": "stream",
     "text": [
      "[ 0.43705068  0.34414446  0.21880486]\n"
     ]
    },
    {
     "name": "stderr",
     "output_type": "stream",
     "text": [
      "/Library/Frameworks/Python.framework/Versions/2.7/lib/python2.7/site-packages/ipykernel_launcher.py:2: DataConversionWarning: A column-vector y was passed when a 1d array was expected. Please change the shape of y to (n_samples,), for example using ravel().\n",
      "  \n"
     ]
    }
   ],
   "source": [
    "model = ExtraTreesClassifier(n_estimators=10)\n",
    "model.fit(X, Y)\n",
    "print(model.feature_importances_)"
   ]
  },
  {
   "cell_type": "markdown",
   "metadata": {},
   "source": [
    "### Feature Extraction + Modeling\n",
    "Using the results from our first round of modeling and feature importance plots, we can try to improve the accuracy of our results by picking out the hour and segments feature and running our ML pipeline again. We can also run our hypothesis (hours and device are best features). If the results improve, then we know that these features are better at predicting conversion than using all three features. If not, we can see if our exploratory data analysis and hypothesis are stronger than the feature importance plots offered by sklearn."
   ]
  },
  {
   "cell_type": "code",
   "execution_count": 309,
   "metadata": {},
   "outputs": [],
   "source": [
    "features_hypothesis = df[['hour', 'device_int']]"
   ]
  },
  {
   "cell_type": "code",
   "execution_count": 310,
   "metadata": {},
   "outputs": [
    {
     "data": {
      "text/plain": [
       "(1656, 2)"
      ]
     },
     "execution_count": 310,
     "metadata": {},
     "output_type": "execute_result"
    }
   ],
   "source": [
    "#Split data into 70% train, 30% validation (test) split\n",
    "X_train, X_test, y_train, y_test = train_test_split(features_hypothesis, target, test_size= 0.5, random_state=42)\n",
    "X_train.shape"
   ]
  },
  {
   "cell_type": "code",
   "execution_count": 311,
   "metadata": {},
   "outputs": [
    {
     "data": {
      "text/html": [
       "<div>\n",
       "<style scoped>\n",
       "    .dataframe tbody tr th:only-of-type {\n",
       "        vertical-align: middle;\n",
       "    }\n",
       "\n",
       "    .dataframe tbody tr th {\n",
       "        vertical-align: top;\n",
       "    }\n",
       "\n",
       "    .dataframe thead th {\n",
       "        text-align: right;\n",
       "    }\n",
       "</style>\n",
       "<table border=\"1\" class=\"dataframe\">\n",
       "  <thead>\n",
       "    <tr style=\"text-align: right;\">\n",
       "      <th></th>\n",
       "      <th>DecisionTreeClassifier</th>\n",
       "      <th>RandomForestClassifier</th>\n",
       "      <th>ExtraTreesClassifier</th>\n",
       "      <th>XGBClassifier</th>\n",
       "      <th>KNeighborsClassifier</th>\n",
       "      <th>BaggingClassifier</th>\n",
       "    </tr>\n",
       "  </thead>\n",
       "  <tbody>\n",
       "    <tr>\n",
       "      <th>train_score</th>\n",
       "      <td>0.640097</td>\n",
       "      <td>0.637681</td>\n",
       "      <td>0.640097</td>\n",
       "      <td>0.635266</td>\n",
       "      <td>0.614734</td>\n",
       "      <td>0.637681</td>\n",
       "    </tr>\n",
       "    <tr>\n",
       "      <th>test_score</th>\n",
       "      <td>0.591787</td>\n",
       "      <td>0.597222</td>\n",
       "      <td>0.591787</td>\n",
       "      <td>0.611715</td>\n",
       "      <td>0.582729</td>\n",
       "      <td>0.592391</td>\n",
       "    </tr>\n",
       "    <tr>\n",
       "      <th>train_rmse</th>\n",
       "      <td>0.599919</td>\n",
       "      <td>0.601929</td>\n",
       "      <td>0.599919</td>\n",
       "      <td>0.603932</td>\n",
       "      <td>0.620698</td>\n",
       "      <td>0.601929</td>\n",
       "    </tr>\n",
       "    <tr>\n",
       "      <th>test_rmse</th>\n",
       "      <td>0.638915</td>\n",
       "      <td>0.634648</td>\n",
       "      <td>0.638915</td>\n",
       "      <td>0.623125</td>\n",
       "      <td>0.645965</td>\n",
       "      <td>0.638442</td>\n",
       "    </tr>\n",
       "    <tr>\n",
       "      <th>train_r2</th>\n",
       "      <td>-0.440025</td>\n",
       "      <td>-0.449690</td>\n",
       "      <td>-0.440025</td>\n",
       "      <td>-0.459354</td>\n",
       "      <td>-0.541503</td>\n",
       "      <td>-0.449690</td>\n",
       "    </tr>\n",
       "    <tr>\n",
       "      <th>test_r2</th>\n",
       "      <td>-0.633193</td>\n",
       "      <td>-0.611450</td>\n",
       "      <td>-0.633193</td>\n",
       "      <td>-0.553466</td>\n",
       "      <td>-0.669433</td>\n",
       "      <td>-0.630777</td>\n",
       "    </tr>\n",
       "  </tbody>\n",
       "</table>\n",
       "</div>"
      ],
      "text/plain": [
       "             DecisionTreeClassifier  RandomForestClassifier  \\\n",
       "train_score                0.640097                0.637681   \n",
       "test_score                 0.591787                0.597222   \n",
       "train_rmse                 0.599919                0.601929   \n",
       "test_rmse                  0.638915                0.634648   \n",
       "train_r2                  -0.440025               -0.449690   \n",
       "test_r2                   -0.633193               -0.611450   \n",
       "\n",
       "             ExtraTreesClassifier  XGBClassifier  KNeighborsClassifier  \\\n",
       "train_score              0.640097       0.635266              0.614734   \n",
       "test_score               0.591787       0.611715              0.582729   \n",
       "train_rmse               0.599919       0.603932              0.620698   \n",
       "test_rmse                0.638915       0.623125              0.645965   \n",
       "train_r2                -0.440025      -0.459354             -0.541503   \n",
       "test_r2                 -0.633193      -0.553466             -0.669433   \n",
       "\n",
       "             BaggingClassifier  \n",
       "train_score           0.637681  \n",
       "test_score            0.592391  \n",
       "train_rmse            0.601929  \n",
       "test_rmse             0.638442  \n",
       "train_r2             -0.449690  \n",
       "test_r2              -0.630777  "
      ]
     },
     "execution_count": 311,
     "metadata": {},
     "output_type": "execute_result"
    }
   ],
   "source": [
    "classifiers = [\n",
    "    DecisionTreeClassifier(),\n",
    "    RandomForestClassifier(),\n",
    "    ExtraTreesClassifier(),\n",
    "    XGBClassifier(),\n",
    "    KNeighborsClassifier(),\n",
    "    BaggingClassifier()\n",
    "]\n",
    "\n",
    "score_df = pd.DataFrame()\n",
    "\n",
    "for c in classifiers:\n",
    "    pipe = Pipeline(steps = [\n",
    "        ('minmax', MinMaxScaler()),\n",
    "        ('classification', c)\n",
    "    ])\n",
    "\n",
    "    result_df = quick_eval(pipe, X_train, y_train, X_test, y_test)\n",
    "    score_df = pd.concat([score_df, result_df], axis=1)\n",
    "    \n",
    "score_df"
   ]
  },
  {
   "cell_type": "code",
   "execution_count": 312,
   "metadata": {},
   "outputs": [],
   "source": [
    "features_observed = df[['hour', 'segments']]"
   ]
  },
  {
   "cell_type": "code",
   "execution_count": 313,
   "metadata": {},
   "outputs": [
    {
     "data": {
      "text/plain": [
       "(1656, 2)"
      ]
     },
     "execution_count": 313,
     "metadata": {},
     "output_type": "execute_result"
    }
   ],
   "source": [
    "#Split data into 70% train, 30% validation (test) split\n",
    "X_train, X_test, y_train, y_test = train_test_split(features_observed, target, test_size= 0.5, random_state=42)\n",
    "X_train.shape"
   ]
  },
  {
   "cell_type": "code",
   "execution_count": 314,
   "metadata": {},
   "outputs": [
    {
     "data": {
      "text/html": [
       "<div>\n",
       "<style scoped>\n",
       "    .dataframe tbody tr th:only-of-type {\n",
       "        vertical-align: middle;\n",
       "    }\n",
       "\n",
       "    .dataframe tbody tr th {\n",
       "        vertical-align: top;\n",
       "    }\n",
       "\n",
       "    .dataframe thead th {\n",
       "        text-align: right;\n",
       "    }\n",
       "</style>\n",
       "<table border=\"1\" class=\"dataframe\">\n",
       "  <thead>\n",
       "    <tr style=\"text-align: right;\">\n",
       "      <th></th>\n",
       "      <th>DecisionTreeClassifier</th>\n",
       "      <th>RandomForestClassifier</th>\n",
       "      <th>ExtraTreesClassifier</th>\n",
       "      <th>XGBClassifier</th>\n",
       "      <th>KNeighborsClassifier</th>\n",
       "      <th>BaggingClassifier</th>\n",
       "    </tr>\n",
       "  </thead>\n",
       "  <tbody>\n",
       "    <tr>\n",
       "      <th>train_score</th>\n",
       "      <td>0.717995</td>\n",
       "      <td>0.705314</td>\n",
       "      <td>0.717995</td>\n",
       "      <td>0.611715</td>\n",
       "      <td>0.647947</td>\n",
       "      <td>0.710145</td>\n",
       "    </tr>\n",
       "    <tr>\n",
       "      <th>test_score</th>\n",
       "      <td>0.423309</td>\n",
       "      <td>0.417874</td>\n",
       "      <td>0.418478</td>\n",
       "      <td>0.516908</td>\n",
       "      <td>0.453502</td>\n",
       "      <td>0.419082</td>\n",
       "    </tr>\n",
       "    <tr>\n",
       "      <th>train_rmse</th>\n",
       "      <td>0.531041</td>\n",
       "      <td>0.542850</td>\n",
       "      <td>0.531041</td>\n",
       "      <td>0.623125</td>\n",
       "      <td>0.593341</td>\n",
       "      <td>0.538382</td>\n",
       "    </tr>\n",
       "    <tr>\n",
       "      <th>test_rmse</th>\n",
       "      <td>0.759402</td>\n",
       "      <td>0.762972</td>\n",
       "      <td>0.762576</td>\n",
       "      <td>0.695048</td>\n",
       "      <td>0.739255</td>\n",
       "      <td>0.762180</td>\n",
       "    </tr>\n",
       "    <tr>\n",
       "      <th>train_r2</th>\n",
       "      <td>-0.128342</td>\n",
       "      <td>-0.179081</td>\n",
       "      <td>-0.128342</td>\n",
       "      <td>-0.553584</td>\n",
       "      <td>-0.408615</td>\n",
       "      <td>-0.159752</td>\n",
       "    </tr>\n",
       "    <tr>\n",
       "      <th>test_r2</th>\n",
       "      <td>-1.307248</td>\n",
       "      <td>-1.328992</td>\n",
       "      <td>-1.326576</td>\n",
       "      <td>-0.932773</td>\n",
       "      <td>-1.186450</td>\n",
       "      <td>-1.324160</td>\n",
       "    </tr>\n",
       "  </tbody>\n",
       "</table>\n",
       "</div>"
      ],
      "text/plain": [
       "             DecisionTreeClassifier  RandomForestClassifier  \\\n",
       "train_score                0.717995                0.705314   \n",
       "test_score                 0.423309                0.417874   \n",
       "train_rmse                 0.531041                0.542850   \n",
       "test_rmse                  0.759402                0.762972   \n",
       "train_r2                  -0.128342               -0.179081   \n",
       "test_r2                   -1.307248               -1.328992   \n",
       "\n",
       "             ExtraTreesClassifier  XGBClassifier  KNeighborsClassifier  \\\n",
       "train_score              0.717995       0.611715              0.647947   \n",
       "test_score               0.418478       0.516908              0.453502   \n",
       "train_rmse               0.531041       0.623125              0.593341   \n",
       "test_rmse                0.762576       0.695048              0.739255   \n",
       "train_r2                -0.128342      -0.553584             -0.408615   \n",
       "test_r2                 -1.326576      -0.932773             -1.186450   \n",
       "\n",
       "             BaggingClassifier  \n",
       "train_score           0.710145  \n",
       "test_score            0.419082  \n",
       "train_rmse            0.538382  \n",
       "test_rmse             0.762180  \n",
       "train_r2             -0.159752  \n",
       "test_r2              -1.324160  "
      ]
     },
     "execution_count": 314,
     "metadata": {},
     "output_type": "execute_result"
    }
   ],
   "source": [
    "classifiers = [\n",
    "    DecisionTreeClassifier(),\n",
    "    RandomForestClassifier(),\n",
    "    ExtraTreesClassifier(),\n",
    "    XGBClassifier(),\n",
    "    KNeighborsClassifier(),\n",
    "    BaggingClassifier()\n",
    "]\n",
    "\n",
    "score_df = pd.DataFrame()\n",
    "\n",
    "for c in classifiers:\n",
    "    pipe = Pipeline(steps = [\n",
    "        ('minmax', MinMaxScaler()),\n",
    "        ('classification', c)\n",
    "    ])\n",
    "\n",
    "    result_df = quick_eval(pipe, X_train, y_train, X_test, y_test)\n",
    "    score_df = pd.concat([score_df, result_df], axis=1)\n",
    "    \n",
    "score_df"
   ]
  },
  {
   "cell_type": "code",
   "execution_count": 315,
   "metadata": {},
   "outputs": [],
   "source": [
    "features_all = df[['hour', 'segments', 'device_int']]"
   ]
  },
  {
   "cell_type": "code",
   "execution_count": 316,
   "metadata": {},
   "outputs": [
    {
     "data": {
      "text/plain": [
       "(1656, 3)"
      ]
     },
     "execution_count": 316,
     "metadata": {},
     "output_type": "execute_result"
    }
   ],
   "source": [
    "#Split data into 70% train, 30% validation (test) split\n",
    "X_train, X_test, y_train, y_test = train_test_split(features_all, target, test_size= 0.5, random_state=42)\n",
    "X_train.shape"
   ]
  },
  {
   "cell_type": "code",
   "execution_count": 317,
   "metadata": {},
   "outputs": [
    {
     "data": {
      "text/html": [
       "<div>\n",
       "<style scoped>\n",
       "    .dataframe tbody tr th:only-of-type {\n",
       "        vertical-align: middle;\n",
       "    }\n",
       "\n",
       "    .dataframe tbody tr th {\n",
       "        vertical-align: top;\n",
       "    }\n",
       "\n",
       "    .dataframe thead th {\n",
       "        text-align: right;\n",
       "    }\n",
       "</style>\n",
       "<table border=\"1\" class=\"dataframe\">\n",
       "  <thead>\n",
       "    <tr style=\"text-align: right;\">\n",
       "      <th></th>\n",
       "      <th>DecisionTreeClassifier</th>\n",
       "      <th>RandomForestClassifier</th>\n",
       "      <th>ExtraTreesClassifier</th>\n",
       "      <th>XGBClassifier</th>\n",
       "      <th>KNeighborsClassifier</th>\n",
       "      <th>BaggingClassifier</th>\n",
       "    </tr>\n",
       "  </thead>\n",
       "  <tbody>\n",
       "    <tr>\n",
       "      <th>train_score</th>\n",
       "      <td>0.812802</td>\n",
       "      <td>0.800121</td>\n",
       "      <td>0.812802</td>\n",
       "      <td>0.655797</td>\n",
       "      <td>0.676932</td>\n",
       "      <td>0.798913</td>\n",
       "    </tr>\n",
       "    <tr>\n",
       "      <th>test_score</th>\n",
       "      <td>0.406401</td>\n",
       "      <td>0.424517</td>\n",
       "      <td>0.414251</td>\n",
       "      <td>0.590580</td>\n",
       "      <td>0.518720</td>\n",
       "      <td>0.432971</td>\n",
       "    </tr>\n",
       "    <tr>\n",
       "      <th>train_rmse</th>\n",
       "      <td>0.432664</td>\n",
       "      <td>0.447079</td>\n",
       "      <td>0.432664</td>\n",
       "      <td>0.586688</td>\n",
       "      <td>0.568390</td>\n",
       "      <td>0.448427</td>\n",
       "    </tr>\n",
       "    <tr>\n",
       "      <th>test_rmse</th>\n",
       "      <td>0.770454</td>\n",
       "      <td>0.758606</td>\n",
       "      <td>0.765342</td>\n",
       "      <td>0.639860</td>\n",
       "      <td>0.693744</td>\n",
       "      <td>0.753013</td>\n",
       "    </tr>\n",
       "    <tr>\n",
       "      <th>train_r2</th>\n",
       "      <td>0.250994</td>\n",
       "      <td>0.200254</td>\n",
       "      <td>0.250994</td>\n",
       "      <td>-0.377205</td>\n",
       "      <td>-0.292640</td>\n",
       "      <td>0.195422</td>\n",
       "    </tr>\n",
       "    <tr>\n",
       "      <th>test_r2</th>\n",
       "      <td>-1.374895</td>\n",
       "      <td>-1.302416</td>\n",
       "      <td>-1.343487</td>\n",
       "      <td>-0.638025</td>\n",
       "      <td>-0.925525</td>\n",
       "      <td>-1.268592</td>\n",
       "    </tr>\n",
       "  </tbody>\n",
       "</table>\n",
       "</div>"
      ],
      "text/plain": [
       "             DecisionTreeClassifier  RandomForestClassifier  \\\n",
       "train_score                0.812802                0.800121   \n",
       "test_score                 0.406401                0.424517   \n",
       "train_rmse                 0.432664                0.447079   \n",
       "test_rmse                  0.770454                0.758606   \n",
       "train_r2                   0.250994                0.200254   \n",
       "test_r2                   -1.374895               -1.302416   \n",
       "\n",
       "             ExtraTreesClassifier  XGBClassifier  KNeighborsClassifier  \\\n",
       "train_score              0.812802       0.655797              0.676932   \n",
       "test_score               0.414251       0.590580              0.518720   \n",
       "train_rmse               0.432664       0.586688              0.568390   \n",
       "test_rmse                0.765342       0.639860              0.693744   \n",
       "train_r2                 0.250994      -0.377205             -0.292640   \n",
       "test_r2                 -1.343487      -0.638025             -0.925525   \n",
       "\n",
       "             BaggingClassifier  \n",
       "train_score           0.798913  \n",
       "test_score            0.432971  \n",
       "train_rmse            0.448427  \n",
       "test_rmse             0.753013  \n",
       "train_r2              0.195422  \n",
       "test_r2              -1.268592  "
      ]
     },
     "execution_count": 317,
     "metadata": {},
     "output_type": "execute_result"
    }
   ],
   "source": [
    "classifiers = [\n",
    "    DecisionTreeClassifier(),\n",
    "    RandomForestClassifier(),\n",
    "    ExtraTreesClassifier(),\n",
    "    XGBClassifier(),\n",
    "    KNeighborsClassifier(),\n",
    "    BaggingClassifier()\n",
    "]\n",
    "\n",
    "score_df = pd.DataFrame()\n",
    "\n",
    "for c in classifiers:\n",
    "    pipe = Pipeline(steps = [\n",
    "        ('minmax', MinMaxScaler()),\n",
    "        ('classification', c)\n",
    "    ])\n",
    "\n",
    "    result_df = quick_eval(pipe, X_train, y_train, X_test, y_test)\n",
    "    score_df = pd.concat([score_df, result_df], axis=1)\n",
    "    \n",
    "score_df"
   ]
  },
  {
   "cell_type": "markdown",
   "metadata": {},
   "source": [
    "With regards to our test, we can see that our hypothesis provided us with a better test score, but the feature importances suggestion provided us with a better training score. We can see that using all three features with a 50/50 train/test split provides us with the best accuracy. This means that we benefit from using all three features, although the hour and segments features are more important in determining conversion than if either were paired with the device feature."
   ]
  },
  {
   "cell_type": "markdown",
   "metadata": {},
   "source": [
    "In summary, we can see that the most predictive features are hour, followed by segments. We see in our exploratory data analysis that there are certain hours that correlate with a higher likelihood of conversion, and if we pair it a certain device, that likelihood increases. We also see that there are certain segments that are likely to convert and that if we target those segments at certain hours, we can increase chances of conversion. This makes the best features hour, followed second by segments."
   ]
  }
 ],
 "metadata": {
  "kernelspec": {
   "display_name": "Python 3",
   "language": "python",
   "name": "python3"
  },
  "language_info": {
   "codemirror_mode": {
    "name": "ipython",
    "version": 2
   },
   "file_extension": ".py",
   "mimetype": "text/x-python",
   "name": "python",
   "nbconvert_exporter": "python",
   "pygments_lexer": "ipython2",
   "version": "2.7.15"
  }
 },
 "nbformat": 4,
 "nbformat_minor": 2
}
